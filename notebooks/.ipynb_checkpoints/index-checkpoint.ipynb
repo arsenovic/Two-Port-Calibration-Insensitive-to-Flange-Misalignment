{
 "metadata": {
  "name": "",
  "signature": "sha256:031f6a0768f59cc47aed82930197c8570442bb92f644ac6cdddd11f19f31620b"
 },
 "nbformat": 3,
 "nbformat_minor": 0,
 "worksheets": [
  {
   "cells": [
    {
     "cell_type": "heading",
     "level": 1,
     "metadata": {},
     "source": [
      "Two Port Calibration Insensitive to Flange Misalignment"
     ]
    },
    {
     "cell_type": "markdown",
     "metadata": {},
     "source": [
      "by Alexander Arsenovic, Robert M. Weikle II, Jeffrey Hesler"
     ]
    },
    {
     "cell_type": "markdown",
     "metadata": {},
     "source": [
      "###[Theory](Theory.ipynb)\n",
      "###[Measurements and Simulation](Measurements and Simulation.ipynb)"
     ]
    }
   ],
   "metadata": {}
  }
 ]
}